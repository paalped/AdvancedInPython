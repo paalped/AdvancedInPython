{
 "cells": [
  {
   "cell_type": "markdown",
   "metadata": {},
   "source": [
    "# Introduction to python decorators\n",
    "\tAn introduction to the different levels\n",
    "\tof how to use a decorator function\n",
    "\tBy: Paal Pedersen\n",
    "\tEmail: paal.pedersen@geodata.no\n"
   ]
  },
  {
   "cell_type": "markdown",
   "metadata": {},
   "source": [
    "## Lets explore a faulty decorator"
   ]
  },
  {
   "cell_type": "code",
   "execution_count": 164,
   "metadata": {},
   "outputs": [],
   "source": [
    "def faulty(func):\n",
    "    ''' a first level decorator, which get evaluated at decorating level '''\n",
    "    print('This runs before the function')\n",
    "    return func"
   ]
  },
  {
   "cell_type": "markdown",
   "metadata": {},
   "source": [
    " ### Note: When we created our faulty decorator function\n",
    "  we can see that this is just a function that\n",
    "  accepts one argument/variable it prints one\n",
    "  line before it returns the variable"
   ]
  },
  {
   "cell_type": "code",
   "execution_count": 165,
   "metadata": {},
   "outputs": [
    {
     "name": "stdout",
     "output_type": "stream",
     "text": [
      "This runs before the function\n"
     ]
    }
   ],
   "source": [
    "@faulty # top level get evaluated here\n",
    "def function1():\n",
    "    print('Inside function1')\n",
    "    print()"
   ]
  },
  {
   "cell_type": "markdown",
   "metadata": {},
   "source": [
    " ### On top of the second level we see this @ before faulty decorater. \n",
    " this is the syntax for creating a wrapper around\n",
    "  the function. but our decorator is missing a wrapper.\n",
    "  So we can see the output from the decorator immediately."
   ]
  },
  {
   "cell_type": "code",
   "execution_count": 3,
   "metadata": {},
   "outputs": [
    {
     "name": "stdout",
     "output_type": "stream",
     "text": [
      "Inside function1\n",
      "\n"
     ]
    }
   ],
   "source": [
    "# lets call our decorated function\n",
    "function1()"
   ]
  },
  {
   "cell_type": "markdown",
   "metadata": {},
   "source": [
    "### Since there were no wrapper, it still works like there is no decorator on top"
   ]
  },
  {
   "cell_type": "markdown",
   "metadata": {},
   "source": [
    "## Lets explore a working decorator"
   ]
  },
  {
   "cell_type": "code",
   "execution_count": 4,
   "metadata": {},
   "outputs": [],
   "source": [
    "def decorator1(func):\n",
    "    # Every thing we do here will be evaluated at decorator instance\n",
    "    print('Remember!')\n",
    "    # So we need a wrapper:\n",
    "    def argument_wrapper(*args):\n",
    "        print('Inside the second level')\n",
    "        print('Lets take a look at the arguments')\n",
    "        print(*args)\n",
    "        print('or as a tuple')\n",
    "        print(args)\n",
    "        print()\n",
    "        return func(*args)\n",
    "    \n",
    "    # we must return the wrapper\n",
    "    return argument_wrapper"
   ]
  },
  {
   "cell_type": "code",
   "execution_count": 5,
   "metadata": {},
   "outputs": [
    {
     "name": "stdout",
     "output_type": "stream",
     "text": [
      "Remember!\n"
     ]
    }
   ],
   "source": [
    "@decorator1\n",
    "def function2(*args):\n",
    "    print('Inside function2')\n",
    "    print(f'We got {len(args)} argument(s)')"
   ]
  },
  {
   "cell_type": "markdown",
   "metadata": {},
   "source": [
    "### Notice the first print output!\n"
   ]
  },
  {
   "cell_type": "code",
   "execution_count": 6,
   "metadata": {},
   "outputs": [
    {
     "name": "stdout",
     "output_type": "stream",
     "text": [
      "Inside the second level\n",
      "Lets take a look at the arguments\n",
      "1 2 3\n",
      "or as a tuple\n",
      "(1, 2, 3)\n",
      "\n",
      "Inside function2\n",
      "We got 3 argument(s)\n"
     ]
    }
   ],
   "source": [
    "function2(1, 2, 3)"
   ]
  },
  {
   "cell_type": "markdown",
   "metadata": {},
   "source": [
    "__Notice how we can se both functions in action__"
   ]
  },
  {
   "cell_type": "markdown",
   "metadata": {},
   "source": [
    "### What do you think will happen if we decorate function2 with the faulty decorator?"
   ]
  },
  {
   "cell_type": "code",
   "execution_count": 7,
   "metadata": {},
   "outputs": [
    {
     "name": "stdout",
     "output_type": "stream",
     "text": [
      "Your answer:\n",
      "DSGSDgsDG\n",
      "Correct answer was:\n"
     ]
    }
   ],
   "source": [
    "from difflib import SequenceMatcher # for correcting input typos\n",
    "answer = input('Your answer:\\n').title()\n",
    "correct = ''.join(map(chr, (84, 104, 105, 115, 32, 114, 117, 110, 115, 32, 98, 101, 102, 111, 114, 101, 32, 116, 104, 101, 32, 102, 117, 110, 99, 116, 105, 111, 110)))\n",
    "if SequenceMatcher(None, answer, correct).ratio() > 0.8:\n",
    "    print(f'Your answer: \"{correct}\" is correct!')\n",
    "    print()\n",
    "else:\n",
    "    print('Correct answer was:')"
   ]
  },
  {
   "cell_type": "code",
   "execution_count": 8,
   "metadata": {},
   "outputs": [
    {
     "name": "stdout",
     "output_type": "stream",
     "text": [
      "This runs before the function\n"
     ]
    }
   ],
   "source": [
    "@faulty\n",
    "def function3(*args):\n",
    "    print('Inside function3')\n",
    "    print(f'We got {len(args)} argument(s)')"
   ]
  },
  {
   "cell_type": "markdown",
   "metadata": {},
   "source": [
    "### And then we can notice the print when calling the function"
   ]
  },
  {
   "cell_type": "code",
   "execution_count": 9,
   "metadata": {},
   "outputs": [
    {
     "name": "stdout",
     "output_type": "stream",
     "text": [
      "Inside function3\n",
      "We got 3 argument(s)\n"
     ]
    }
   ],
   "source": [
    "function3(1,2,3)"
   ]
  },
  {
   "cell_type": "markdown",
   "metadata": {},
   "source": [
    "## Lets dig deeper"
   ]
  },
  {
   "cell_type": "code",
   "execution_count": 155,
   "metadata": {},
   "outputs": [],
   "source": [
    "def decorator2(input_=()):\n",
    "    def function_wrapper(func):\n",
    "        def argument_wrapper(*args):\n",
    "            print(f'Decorator arguments: {input_}')\n",
    "            print(f'Got a function named: {func.__name__}')\n",
    "            print(f'with arguments: {args}')\n",
    "            print('Complete function syntax:')\n",
    "            print(f'{func.__name__}{args}')\n",
    "            result = func(*args)\n",
    "            print('Inside the decorator again')\n",
    "            print(f'got result: {result}')\n",
    "            print('Should we change the result?')\n",
    "            print('square every value')\n",
    "            result = tuple(i ** 2 for i in result)\n",
    "            print(f'new result: {result}')\n",
    "            return result\n",
    "        return argument_wrapper\n",
    "    return function_wrapper"
   ]
  },
  {
   "cell_type": "markdown",
   "metadata": {},
   "source": [
    "### Notice the one significant different here, and that is the arguments for decorator"
   ]
  },
  {
   "cell_type": "code",
   "execution_count": 156,
   "metadata": {},
   "outputs": [],
   "source": [
    "@decorator2(input_=('input to the decorator', 1, 2, 'this', 'is', 'fun'))\n",
    "def function4(*args):\n",
    "    print('Inside function4 with arguments')\n",
    "    return args"
   ]
  },
  {
   "cell_type": "code",
   "execution_count": 157,
   "metadata": {},
   "outputs": [
    {
     "name": "stdout",
     "output_type": "stream",
     "text": [
      "Decorator arguments: ('input to the decorator', 1, 2, 'this', 'is', 'fun')\n",
      "Got a function named: function4\n",
      "with arguments: (1, 2, 3)\n",
      "Complete function syntax:\n",
      "function4(1, 2, 3)\n",
      "Inside function4 with arguments\n",
      "Inside the decorator again\n",
      "got result: (1, 2, 3)\n",
      "Should we change the result?\n",
      "square every value\n",
      "new result: (1, 4, 9)\n"
     ]
    }
   ],
   "source": [
    "res = function4(1,2,3)"
   ]
  },
  {
   "cell_type": "code",
   "execution_count": 158,
   "metadata": {},
   "outputs": [
    {
     "name": "stdout",
     "output_type": "stream",
     "text": [
      "(1, 4, 9)\n"
     ]
    }
   ],
   "source": [
    "print(res)"
   ]
  },
  {
   "cell_type": "markdown",
   "metadata": {},
   "source": [
    "### Lets do something usefull with decorator arguments"
   ]
  },
  {
   "cell_type": "code",
   "execution_count": 159,
   "metadata": {},
   "outputs": [],
   "source": [
    "def typecheckArguments(_types=()):\n",
    "    def check_types(*args):\n",
    "        ''' Helper function '''\n",
    "        assert len(args) == len(_types)\n",
    "        for index, (_type, arg) in enumerate(zip(_types, args)):\n",
    "            if not isinstance(arg, _type):\n",
    "                print(f'argument at index {index+1} with value: {arg} not of type: {_type}')\n",
    "                \n",
    "    def funcwrapper(func):\n",
    "        def argwrapper(*args):\n",
    "            check_types(*args)\n",
    "            return func(*args)\n",
    "\n",
    "        return argwrapper\n",
    "    return funcwrapper"
   ]
  },
  {
   "cell_type": "code",
   "execution_count": 160,
   "metadata": {},
   "outputs": [],
   "source": [
    "@typecheckArguments(_types=(int, int))\n",
    "def takes_two_ints(a, b):\n",
    "    return a + b"
   ]
  },
  {
   "cell_type": "code",
   "execution_count": 161,
   "metadata": {},
   "outputs": [
    {
     "name": "stdout",
     "output_type": "stream",
     "text": [
      "result 4\n"
     ]
    }
   ],
   "source": [
    "print('result', takes_two_ints(1, 3))"
   ]
  },
  {
   "cell_type": "markdown",
   "metadata": {},
   "source": [
    "Calling takes_two_ints with one int, and one float"
   ]
  },
  {
   "cell_type": "code",
   "execution_count": 162,
   "metadata": {},
   "outputs": [
    {
     "name": "stdout",
     "output_type": "stream",
     "text": [
      "argument at index 2 with value: 1.1 not of type: <class 'int'>\n",
      "result 2.1\n"
     ]
    }
   ],
   "source": [
    "print('result', takes_two_ints(1, 1.1))"
   ]
  },
  {
   "cell_type": "markdown",
   "metadata": {},
   "source": [
    " This is more usefull, it gives us a nice feedback in the console when we enter a wrong type. \n",
    "But then it continues with out raising any errors, and that is because you can add ints and floats.\n",
    "But what if we enter a string?"
   ]
  },
  {
   "cell_type": "code",
   "execution_count": 163,
   "metadata": {},
   "outputs": [
    {
     "name": "stdout",
     "output_type": "stream",
     "text": [
      "argument at index 2 with value: 3 not of type: <class 'int'>\n"
     ]
    },
    {
     "ename": "TypeError",
     "evalue": "unsupported operand type(s) for +: 'int' and 'str'",
     "output_type": "error",
     "traceback": [
      "\u001b[1;31m---------------------------------------------------------------------------\u001b[0m",
      "\u001b[1;31mTypeError\u001b[0m                                 Traceback (most recent call last)",
      "\u001b[1;32m<ipython-input-163-8565b604e958>\u001b[0m in \u001b[0;36m<module>\u001b[1;34m()\u001b[0m\n\u001b[1;32m----> 1\u001b[1;33m \u001b[0mprint\u001b[0m\u001b[1;33m(\u001b[0m\u001b[1;34m'result'\u001b[0m\u001b[1;33m,\u001b[0m \u001b[0mtakes_two_ints\u001b[0m\u001b[1;33m(\u001b[0m\u001b[1;36m1\u001b[0m\u001b[1;33m,\u001b[0m \u001b[1;34m'3'\u001b[0m\u001b[1;33m)\u001b[0m\u001b[1;33m)\u001b[0m\u001b[1;33m\u001b[0m\u001b[0m\n\u001b[0m",
      "\u001b[1;32m<ipython-input-159-6604d26e24e0>\u001b[0m in \u001b[0;36margwrapper\u001b[1;34m(*args)\u001b[0m\n\u001b[0;32m     10\u001b[0m         \u001b[1;32mdef\u001b[0m \u001b[0margwrapper\u001b[0m\u001b[1;33m(\u001b[0m\u001b[1;33m*\u001b[0m\u001b[0margs\u001b[0m\u001b[1;33m)\u001b[0m\u001b[1;33m:\u001b[0m\u001b[1;33m\u001b[0m\u001b[0m\n\u001b[0;32m     11\u001b[0m             \u001b[0mcheck_types\u001b[0m\u001b[1;33m(\u001b[0m\u001b[1;33m*\u001b[0m\u001b[0margs\u001b[0m\u001b[1;33m)\u001b[0m\u001b[1;33m\u001b[0m\u001b[0m\n\u001b[1;32m---> 12\u001b[1;33m             \u001b[1;32mreturn\u001b[0m \u001b[0mfunc\u001b[0m\u001b[1;33m(\u001b[0m\u001b[1;33m*\u001b[0m\u001b[0margs\u001b[0m\u001b[1;33m)\u001b[0m\u001b[1;33m\u001b[0m\u001b[0m\n\u001b[0m\u001b[0;32m     13\u001b[0m \u001b[1;33m\u001b[0m\u001b[0m\n\u001b[0;32m     14\u001b[0m         \u001b[1;32mreturn\u001b[0m \u001b[0margwrapper\u001b[0m\u001b[1;33m\u001b[0m\u001b[0m\n",
      "\u001b[1;32m<ipython-input-160-0b651f8ef3d6>\u001b[0m in \u001b[0;36mtakes_two_ints\u001b[1;34m(a, b)\u001b[0m\n\u001b[0;32m      1\u001b[0m \u001b[1;33m@\u001b[0m\u001b[0mtypecheckArguments\u001b[0m\u001b[1;33m(\u001b[0m\u001b[0m_types\u001b[0m\u001b[1;33m=\u001b[0m\u001b[1;33m(\u001b[0m\u001b[0mint\u001b[0m\u001b[1;33m,\u001b[0m \u001b[0mint\u001b[0m\u001b[1;33m)\u001b[0m\u001b[1;33m)\u001b[0m\u001b[1;33m\u001b[0m\u001b[0m\n\u001b[0;32m      2\u001b[0m \u001b[1;32mdef\u001b[0m \u001b[0mtakes_two_ints\u001b[0m\u001b[1;33m(\u001b[0m\u001b[0ma\u001b[0m\u001b[1;33m,\u001b[0m \u001b[0mb\u001b[0m\u001b[1;33m)\u001b[0m\u001b[1;33m:\u001b[0m\u001b[1;33m\u001b[0m\u001b[0m\n\u001b[1;32m----> 3\u001b[1;33m     \u001b[1;32mreturn\u001b[0m \u001b[0ma\u001b[0m \u001b[1;33m+\u001b[0m \u001b[0mb\u001b[0m\u001b[1;33m\u001b[0m\u001b[0m\n\u001b[0m",
      "\u001b[1;31mTypeError\u001b[0m: unsupported operand type(s) for +: 'int' and 'str'"
     ]
    }
   ],
   "source": [
    "print('result', takes_two_ints(1, '3'))"
   ]
  },
  {
   "cell_type": "markdown",
   "metadata": {},
   "source": [
    "Here we notice our typechecker print the fault before we encounter an error"
   ]
  },
  {
   "cell_type": "markdown",
   "metadata": {},
   "source": [
    "## Lets create another typechecker"
   ]
  },
  {
   "cell_type": "code",
   "execution_count": 7,
   "metadata": {},
   "outputs": [],
   "source": [
    "def typecheckArguments2(allowed_types=()):\n",
    "    def check_types(*args):\n",
    "        filtered_args = []\n",
    "        for arg in args:\n",
    "            if type(arg) not in allowed_types:\n",
    "                print(f'Discarding invalid type: {type(arg)}, value: {arg}')\n",
    "            else:\n",
    "                filtered_args.append(arg)\n",
    "        return filtered_args\n",
    "\n",
    "    def wrapper(func):\n",
    "        def _wrapper(*args):\n",
    "            # We call the check_types here\n",
    "            filtered = check_types(*args)\n",
    "            print(f'using flitered values: {tuple(filtered)}')\n",
    "            res = func(*filtered)\n",
    "            print(f'result: {res}')\n",
    "            return res\n",
    "        return _wrapper\n",
    "    return wrapper"
   ]
  },
  {
   "cell_type": "code",
   "execution_count": 8,
   "metadata": {},
   "outputs": [],
   "source": [
    "@typecheckArguments2(allowed_types=(int, float))\n",
    "def acceptsNumbers(*args):\n",
    "    print('summing...')\n",
    "    return sum(args)"
   ]
  },
  {
   "cell_type": "code",
   "execution_count": 9,
   "metadata": {},
   "outputs": [
    {
     "name": "stdout",
     "output_type": "stream",
     "text": [
      "Discarding invalid type: <class 'type'>, value: <class 'int'>\n",
      "Discarding invalid type: <class 'str'>, value: str\n",
      "Discarding invalid type: <class 'type'>, value: <class 'str'>\n",
      "using flitered values: (1, 2, 3, 5.5)\n",
      "summing...\n",
      "result: 11.5\n"
     ]
    },
    {
     "data": {
      "text/plain": [
       "11.5"
      ]
     },
     "execution_count": 9,
     "metadata": {},
     "output_type": "execute_result"
    }
   ],
   "source": [
    "acceptsNumbers(1, 2, 3, 5.5, int, 'str', str)"
   ]
  },
  {
   "cell_type": "markdown",
   "metadata": {},
   "source": [
    "Here we filtered out argmuments of wrong type in a greedy manner"
   ]
  },
  {
   "cell_type": "markdown",
   "metadata": {},
   "source": [
    "## Lets extend some functionality"
   ]
  },
  {
   "cell_type": "code",
   "execution_count": 10,
   "metadata": {},
   "outputs": [],
   "source": [
    "def typecheckArguments3(allowed_types=(), cast=True, cast_to=float):\n",
    "    \n",
    "    def cast_filter(value_of_type):\n",
    "        try:\n",
    "            cast_to(value_of_type)\n",
    "            return True\n",
    "        except:\n",
    "            print(f'Discarding invalid type: {type(value_of_type)}, value: {value_of_type}')\n",
    "            return False\n",
    "\n",
    "    def check_types(*args):\n",
    "        clean_args = []\n",
    "        correct_types = []\n",
    "        for arg in args:\n",
    "            if type(arg) not in allowed_types:\n",
    "                correct_types.append(arg)\n",
    "            else:\n",
    "                clean_args.append(arg)\n",
    "\n",
    "        if cast:\n",
    "            # if cast is True, we filter out bad casts\n",
    "            correct_types = list(map(cast_to, filter(cast_filter, correct_types)))\n",
    "            clean_args.extend(correct_types)\n",
    "            \n",
    "        return tuple(clean_args)\n",
    "\n",
    "    def wrapper(func):\n",
    "        def _wrapper(*args):\n",
    "            clean = check_types(*args)\n",
    "            res = func(*clean)\n",
    "            print('result:', res)\n",
    "            return res\n",
    "\n",
    "        return _wrapper\n",
    "\n",
    "    return wrapper"
   ]
  },
  {
   "cell_type": "code",
   "execution_count": 11,
   "metadata": {},
   "outputs": [],
   "source": [
    "@typecheckArguments3(allowed_types=(int, float))\n",
    "def acceptsNumbersAstheyAre(*args):\n",
    "    print('summing...')\n",
    "    return sum(args)"
   ]
  },
  {
   "cell_type": "code",
   "execution_count": 12,
   "metadata": {},
   "outputs": [
    {
     "name": "stdout",
     "output_type": "stream",
     "text": [
      "Discarding invalid type: <class 'str'>, value: s\n",
      "Discarding invalid type: <class 'NoneType'>, value: None\n",
      "summing...\n",
      "result: 11.0\n"
     ]
    },
    {
     "data": {
      "text/plain": [
       "11.0"
      ]
     },
     "execution_count": 12,
     "metadata": {},
     "output_type": "execute_result"
    }
   ],
   "source": [
    "acceptsNumbersAstheyAre(1, 2, 3, '5', 's', None)"
   ]
  },
  {
   "cell_type": "code",
   "execution_count": 13,
   "metadata": {},
   "outputs": [],
   "source": [
    "@typecheckArguments3(allowed_types=(str,), cast_to=str)\n",
    "def acceptsAny(*args):\n",
    "    print('joining...')\n",
    "    return ''.join(args)"
   ]
  },
  {
   "cell_type": "code",
   "execution_count": 14,
   "metadata": {},
   "outputs": [
    {
     "name": "stdout",
     "output_type": "stream",
     "text": [
      "joining...\n",
      "result: hello World123321\n"
     ]
    },
    {
     "data": {
      "text/plain": [
       "'hello World123321'"
      ]
     },
     "execution_count": 14,
     "metadata": {},
     "output_type": "execute_result"
    }
   ],
   "source": [
    "acceptsAny(1,23, 'hello World', 321)"
   ]
  },
  {
   "cell_type": "markdown",
   "metadata": {},
   "source": [
    " Notice! how our logic got twisted"
   ]
  },
  {
   "cell_type": "markdown",
   "metadata": {},
   "source": [
    "## Lets fix it\n",
    "### Notice the different inputs to the decorator afterwards"
   ]
  },
  {
   "cell_type": "code",
   "execution_count": 166,
   "metadata": {},
   "outputs": [],
   "source": [
    "def typecheckArguments4(allowed_types=(), cast=True, cast_to=str):\n",
    "    \n",
    "    def cast_filter(value_of_type):\n",
    "        try:\n",
    "            cast_to(value_of_type)\n",
    "            return True\n",
    "        except:\n",
    "            print(f'Discarding invalid type: {type(value_of_type)}, value: {value_of_type}')\n",
    "            return False\n",
    "        \n",
    "    def check_type_filter(arg):\n",
    "        keep = type(arg) in allowed_types\n",
    "        if not keep:\n",
    "            print(f'Discarding invalid type: {type(arg)}, value: {arg}')\n",
    "        return keep\n",
    "\n",
    "    def check_types(*args):\n",
    "        if cast:\n",
    "            # if cast is True, we filter out bad casts\n",
    "            clean = tuple(map(cast_to, filter(cast_filter, args)))\n",
    "            return clean\n",
    "        else:\n",
    "            clean = tuple(filter(check_type_filter, args))\n",
    "            return clean\n",
    "\n",
    "    def wrapper(func):\n",
    "        def _wrapper(*args):\n",
    "            clean = check_types(*args)\n",
    "            res = func(*clean)\n",
    "            print('result:', res)\n",
    "            return res\n",
    "        \n",
    "        return _wrapper\n",
    "    return wrapper"
   ]
  },
  {
   "cell_type": "code",
   "execution_count": 167,
   "metadata": {},
   "outputs": [],
   "source": [
    "@typecheckArguments4(allowed_types=(str,), cast=False)\n",
    "def acceptsString(*args):\n",
    "    print('joining...')\n",
    "    return ''.join(args)"
   ]
  },
  {
   "cell_type": "code",
   "execution_count": 168,
   "metadata": {},
   "outputs": [
    {
     "name": "stdout",
     "output_type": "stream",
     "text": [
      "Discarding invalid type: <class 'int'>, value: 1\n",
      "Discarding invalid type: <class 'int'>, value: 2\n",
      "Discarding invalid type: <class 'int'>, value: 3\n",
      "Discarding invalid type: <class 'int'>, value: 4\n",
      "Discarding invalid type: <class 'int'>, value: 5\n",
      "Discarding invalid type: <class 'int'>, value: 6\n",
      "joining...\n",
      "result: Hello\n"
     ]
    },
    {
     "data": {
      "text/plain": [
       "'Hello'"
      ]
     },
     "execution_count": 168,
     "metadata": {},
     "output_type": "execute_result"
    }
   ],
   "source": [
    "acceptsString(1,2,3 ,'Hello', 4,5,6)"
   ]
  },
  {
   "cell_type": "code",
   "execution_count": 169,
   "metadata": {},
   "outputs": [],
   "source": [
    "@typecheckArguments4(cast_to=str)\n",
    "def acceptsAny2(*args):\n",
    "    print('joining...')\n",
    "    return ''.join(args)"
   ]
  },
  {
   "cell_type": "code",
   "execution_count": 170,
   "metadata": {},
   "outputs": [
    {
     "name": "stdout",
     "output_type": "stream",
     "text": [
      "joining...\n",
      "result: 123Hello456<class 'int'>\n"
     ]
    },
    {
     "data": {
      "text/plain": [
       "\"123Hello456<class 'int'>\""
      ]
     },
     "execution_count": 170,
     "metadata": {},
     "output_type": "execute_result"
    }
   ],
   "source": [
    "acceptsAny2(1,2,3 ,'Hello', 4,5,6, int)"
   ]
  },
  {
   "cell_type": "markdown",
   "metadata": {},
   "source": [
    "### Notice how much cleaner our code became when we dropped the excessive use of list declarations, we also improved our logic drastically."
   ]
  },
  {
   "cell_type": "markdown",
   "metadata": {},
   "source": [
    "## Next up class decorators!"
   ]
  },
  {
   "cell_type": "code",
   "execution_count": 15,
   "metadata": {},
   "outputs": [],
   "source": [
    "class SimpleDecorator(object):\n",
    "    def __init__(self, func):\n",
    "        self.func = func\n",
    "    \n",
    "    def __call__(self, *args):\n",
    "        \n",
    "        print('call beeing made')\n",
    "        print('using args:', args)\n",
    "        result = self.func(*args)\n",
    "        print('result:', result)\n",
    "        return result\n"
   ]
  },
  {
   "cell_type": "markdown",
   "metadata": {},
   "source": [
    "The class takes one input, func. This is the decorated function<br />\n",
    "then we implement the Data Model method __call__.<br />\n",
    "We could initiate a new object from our class:<br />\n",
    "s = SimpleDecorator(some_earlier_defined_function)<br />\n",
    "\n",
    "Then this is when __call__ gets called:<br />\n",
    "s() # when we add the parenteses.<br />"
   ]
  },
  {
   "cell_type": "code",
   "execution_count": 16,
   "metadata": {},
   "outputs": [],
   "source": [
    "@SimpleDecorator\n",
    "def simple(*args):\n",
    "    print('inside simple with args:', *args)\n",
    "    return args\n"
   ]
  },
  {
   "cell_type": "code",
   "execution_count": 17,
   "metadata": {},
   "outputs": [
    {
     "name": "stdout",
     "output_type": "stream",
     "text": [
      "call beeing made\n",
      "using args: (1, 2, 3)\n",
      "inside simple with args: 1 2 3\n",
      "result: (1, 2, 3)\n"
     ]
    },
    {
     "data": {
      "text/plain": [
       "(1, 2, 3)"
      ]
     },
     "execution_count": 17,
     "metadata": {},
     "output_type": "execute_result"
    }
   ],
   "source": [
    "simple(1, 2, 3)"
   ]
  },
  {
   "cell_type": "markdown",
   "metadata": {},
   "source": [
    "A we can see its quite simple to create a class decorator. <br />\n",
    "It would also make our decorators cleaner to study. <br />\n"
   ]
  },
  {
   "cell_type": "code",
   "execution_count": 18,
   "metadata": {},
   "outputs": [
    {
     "name": "stdout",
     "output_type": "stream",
     "text": [
      "<__main__.SimpleDecorator object at 0x0000026944ACD358>\n"
     ]
    }
   ],
   "source": [
    "print(simple)"
   ]
  },
  {
   "cell_type": "markdown",
   "metadata": {},
   "source": [
    "If we print our function, we can see that it belogns to SimpleDecorator<br />\n",
    "So simple is now a method of SimpleDecorator.<br />\n",
    "\n",
    "But this look ugly when we print. Could we make it better? <br />"
   ]
  },
  {
   "cell_type": "code",
   "execution_count": 171,
   "metadata": {},
   "outputs": [
    {
     "name": "stdout",
     "output_type": "stream",
     "text": [
      "Inside __call__\n"
     ]
    }
   ],
   "source": [
    "class DecoratorWithArgs(object):\n",
    "    def __init__(self, *args):\n",
    "        self.args = args\n",
    "\n",
    "    def __call__(self, func):\n",
    "        print(f'Inside __call__')\n",
    "        def function_wrapper(*args, **kwargs):\n",
    "            print(\"'Inside function_wrapper()\")\n",
    "            print(\"Decorator arguments:\", self.args)\n",
    "            result = func(*args, **kwargs)\n",
    "            print(f'Result: {result}')\n",
    "        return function_wrapper\n",
    "\n",
    "@DecoratorWithArgs('arg1', 2, 3,4)\n",
    "def simple_func(*args, **kwargs):\n",
    "    kwargs['key']='unlocked'\n",
    "    return args, kwargs\n"
   ]
  },
  {
   "cell_type": "markdown",
   "metadata": {},
   "source": [
    "Remember! When we build a new wrapper under __call__ everything a the top level be evaluated a decorating instance. "
   ]
  },
  {
   "cell_type": "code",
   "execution_count": 172,
   "metadata": {},
   "outputs": [
    {
     "name": "stdout",
     "output_type": "stream",
     "text": [
      "'Inside function_wrapper()\n",
      "Decorator arguments: ('arg1', 2, 3, 4)\n",
      "Result: ((9, 8, 7), {'key': 'unlocked'})\n"
     ]
    }
   ],
   "source": [
    "simple_func(9,8,7)"
   ]
  },
  {
   "cell_type": "markdown",
   "metadata": {},
   "source": [
    "Our wrapper seams to work as expected. <br/>\n",
    "### Lets try something weird"
   ]
  },
  {
   "cell_type": "code",
   "execution_count": 70,
   "metadata": {},
   "outputs": [
    {
     "name": "stdout",
     "output_type": "stream",
     "text": [
      "function args: (1, 2, 3)\n",
      "function kwargs: {'k': 5}\n",
      "result : ((1, 2, 3), {'k': 5})\n",
      "self.args: (7, 8, 9)\n",
      "self.kwargs: {'l': 2}\n",
      "swooped args and kwargs result: ((7, 8, 9), {'l': 2})\n",
      "combined result: ((1, 2, 3, 7, 8, 9), {'k': 5, 'l': 2})\n"
     ]
    }
   ],
   "source": [
    "class NonPythonicDecorator(object):\n",
    "    def __init__(self, func):\n",
    "        self.func = func\n",
    "    \n",
    "    def setArguments(self, *args):\n",
    "        self.args = args\n",
    "    \n",
    "    def setKeyvaluearguments(self, **kwargs):\n",
    "        self.kwargs = kwargs\n",
    "        \n",
    "    def __call__(self,  *args, **kwargs):\n",
    "        print(f'function args: {args}')\n",
    "        print(f'function kwargs: {kwargs}')\n",
    "        print(f'result : {self.func(*args, **kwargs)}')\n",
    "        print(f'self.args: {self.args}')\n",
    "        print(f'self.kwargs: {self.kwargs}')\n",
    "        print(f'swooped args and kwargs result: {self.func(*self.args, **self.kwargs)}')\n",
    "        combined_args = (*args , *self.args)\n",
    "        combined_kwargs = {**kwargs, **self.kwargs}\n",
    "        print(f'combined result: {self.func(*combined_args, **combined_kwargs)}')\n",
    "        \n",
    "\n",
    "s = NonPythonicDecorator # We leve blank to avoid init beeing called\n",
    "s.setArguments(s, 7,8,9) # we call methods, and send in s as self\n",
    "s.setKeyvaluearguments(s, l=2) # we call som other method where we send in s as self.\n",
    "\n",
    "@s # We can now decorate with s, which will take next vaiable function name to initialise self, and __call__ will wrapp the args\n",
    "def simple_func(*args, **kwargs):\n",
    "    return args, kwargs\n",
    "\n",
    "simple_func(1,2,3, k=5)"
   ]
  },
  {
   "cell_type": "markdown",
   "metadata": {},
   "source": [
    "That was weird, but it works as expcetd. but the syntaxt to create s and to place s in the methods are ugly, and should be avoided I think."
   ]
  },
  {
   "cell_type": "markdown",
   "metadata": {},
   "source": [
    "## Lets explorer a couple of builtin decorators"
   ]
  },
  {
   "cell_type": "code",
   "execution_count": 173,
   "metadata": {},
   "outputs": [],
   "source": [
    "class UsingClassMethods(object):\n",
    "    \n",
    "    # slots define allowed class attributes\n",
    "    __slots__ = ['func']\n",
    "    \n",
    "    def __init__(self, func):\n",
    "        self.func = func\n",
    "        # we want the function to be set to the instance of the class\n",
    "        # in order to get its original name\n",
    "        self.setattribute('func', func)\n",
    "    \n",
    "    # now the input function is set as an attribute of the class instance\n",
    "    @classmethod\n",
    "    def setattribute(cls, name, value):\n",
    "        setattr(cls, name, value)\n",
    "    \n",
    "    # call will behave differently by applying its class instance\n",
    "    def __call__(self, *args):\n",
    "        print('call beeing made')\n",
    "        print('using args:', args)\n",
    "        result = self.func(*args)\n",
    "        result = result[1:] # remove cls from result\n",
    "        print('result:', result)\n",
    "        return result\n",
    "    \n",
    "    # our str must reach into class in order to find the function\n",
    "    @classmethod\n",
    "    def __str__(cls):\n",
    "        func = getattr(cls, 'func')\n",
    "        # since func is set to the class we can extract its original name\n",
    "        return f'<class {cls.__name__}>.{func.__name__}'\n",
    "    \n",
    "    # repr is the method called to the console output when no print is given\n",
    "    @classmethod\n",
    "    def __repr__(cls):\n",
    "        func = getattr(cls, 'func')\n",
    "        return f'<class {cls.__name__}>.{func.__name__}'"
   ]
  },
  {
   "cell_type": "code",
   "execution_count": 174,
   "metadata": {},
   "outputs": [],
   "source": [
    "@UsingClassMethods\n",
    "def its_simple(*args):\n",
    "    print('inside simple with args:', *args)\n",
    "    return args"
   ]
  },
  {
   "cell_type": "code",
   "execution_count": 175,
   "metadata": {},
   "outputs": [
    {
     "data": {
      "text/plain": [
       "<class UsingClassMethods>.its_simple"
      ]
     },
     "execution_count": 175,
     "metadata": {},
     "output_type": "execute_result"
    }
   ],
   "source": [
    "its_simple # testing __repr__ method"
   ]
  },
  {
   "cell_type": "code",
   "execution_count": 176,
   "metadata": {},
   "outputs": [
    {
     "name": "stdout",
     "output_type": "stream",
     "text": [
      "call beeing made\n",
      "using args: (1, 2, 3)\n",
      "inside simple with args: <class UsingClassMethods>.its_simple 1 2 3\n",
      "result: (1, 2, 3)\n"
     ]
    },
    {
     "data": {
      "text/plain": [
       "(1, 2, 3)"
      ]
     },
     "execution_count": 176,
     "metadata": {},
     "output_type": "execute_result"
    }
   ],
   "source": [
    "its_simple(1,2,3)"
   ]
  },
  {
   "cell_type": "markdown",
   "metadata": {},
   "source": [
    "When we look inside its_simple we can see that the class is beeing <br />\n",
    "sent together with the args. </br>\n",
    "We manage to represent the class in our own way, but we also destroyed the <br />\n",
    "once simple class. </br>\n",
    "We also introduce a new decorator @classmethod. which we can not find in our code, <br />\n",
    "and that is because its one of the builtin class decorators. <br />\n",
    "<br />\n",
    "## Lets dig deeper\n",
    "We also have @staticmethod, @property ....<br />\n",
    "@property is to mimic a privat method<br />\n",
    "@staticmethod is a method of a class, which does not<br />\n",
    "accepts self. and it can be called directyl without initiatig the class <br />\n",
    "\n"
   ]
  },
  {
   "cell_type": "code",
   "execution_count": 76,
   "metadata": {},
   "outputs": [],
   "source": [
    "class ImplementsStatic(object):\n",
    "    \n",
    "    # No init\n",
    "    \n",
    "    @staticmethod\n",
    "    def staticfunction(*args):\n",
    "        print(args)"
   ]
  },
  {
   "cell_type": "code",
   "execution_count": 77,
   "metadata": {},
   "outputs": [
    {
     "name": "stdout",
     "output_type": "stream",
     "text": [
      "(1, 2, 3)\n"
     ]
    }
   ],
   "source": [
    "ImplementsStatic.staticfunction(1,2,3)"
   ]
  },
  {
   "cell_type": "markdown",
   "metadata": {},
   "source": [
    "__A static method can be called directly on the class instance without ever initializing the class!__ <br/>\n",
    "\n",
    "## Lets look at the @property decorator"
   ]
  },
  {
   "cell_type": "code",
   "execution_count": 132,
   "metadata": {},
   "outputs": [],
   "source": [
    "class ImplementsProperty(object):\n",
    "    def __init__(self, name, secret):\n",
    "        self.__name__ = name\n",
    "        self._secret = secret\n",
    "        \n",
    "        \n",
    "    @property\n",
    "    def name(self):\n",
    "        print('accessing name property')\n",
    "        return self.__name__\n",
    "    \n",
    "    @name.setter\n",
    "    def name(self, name):\n",
    "        print('Changing name')\n",
    "        self.__dict__['__name__'] = name\n",
    "    \n",
    "    @property\n",
    "    def secret(self):\n",
    "        if hasattr(self, '__name__'):\n",
    "            if getattr(self, '__name__') == 'The Secret Name':\n",
    "                print(f'\"{self.__name__}\" Accessing secret')\n",
    "                return self._secret\n",
    "            else:\n",
    "                print('Invalid access')\n",
    "        else:\n",
    "            print('Invalid access')\n",
    "    \n",
    "    def accessor(self):\n",
    "        \n",
    "        print(f'the secret is: {self.secret}')\n",
    "        \n",
    "    @secret.setter\n",
    "    def secret(self, sec):\n",
    "        if hasattr(self, '__name__'):\n",
    "            if getattr(self, '__name__') == 'The Secret Name':\n",
    "                print(f'\"{self.__name__}\" Changing secret')\n",
    "                self._secret = sec\n",
    "            else:\n",
    "                print('Invalid access')\n",
    "        else:\n",
    "            print('Invalid access')\n",
    "    "
   ]
  },
  {
   "cell_type": "code",
   "execution_count": 133,
   "metadata": {},
   "outputs": [
    {
     "name": "stdout",
     "output_type": "stream",
     "text": [
      "Changing name\n"
     ]
    }
   ],
   "source": [
    "I = ImplementsProperty('my secret', 'mee')\n",
    "I.name = 'new name'"
   ]
  },
  {
   "cell_type": "code",
   "execution_count": 134,
   "metadata": {},
   "outputs": [
    {
     "name": "stdout",
     "output_type": "stream",
     "text": [
      "accessing name property\n"
     ]
    },
    {
     "data": {
      "text/plain": [
       "'new name'"
      ]
     },
     "execution_count": 134,
     "metadata": {},
     "output_type": "execute_result"
    }
   ],
   "source": [
    "I.name"
   ]
  },
  {
   "cell_type": "code",
   "execution_count": 135,
   "metadata": {},
   "outputs": [
    {
     "name": "stdout",
     "output_type": "stream",
     "text": [
      "Invalid access\n"
     ]
    }
   ],
   "source": [
    "I.secret"
   ]
  },
  {
   "cell_type": "code",
   "execution_count": 136,
   "metadata": {},
   "outputs": [],
   "source": [
    "I.__name__ = 'The Secret Name'"
   ]
  },
  {
   "cell_type": "code",
   "execution_count": 137,
   "metadata": {},
   "outputs": [
    {
     "name": "stdout",
     "output_type": "stream",
     "text": [
      "\"The Secret Name\" Accessing secret\n",
      "the secret is: mee\n"
     ]
    }
   ],
   "source": [
    "I.accessor()"
   ]
  },
  {
   "cell_type": "code",
   "execution_count": 138,
   "metadata": {},
   "outputs": [
    {
     "name": "stdout",
     "output_type": "stream",
     "text": [
      "\"The Secret Name\" Changing secret\n"
     ]
    }
   ],
   "source": [
    "I.secret = 'New secret1'"
   ]
  },
  {
   "cell_type": "code",
   "execution_count": 139,
   "metadata": {},
   "outputs": [],
   "source": [
    "I._secret = 'New secret2' # go straith the source attribute"
   ]
  },
  {
   "cell_type": "code",
   "execution_count": 140,
   "metadata": {},
   "outputs": [
    {
     "name": "stdout",
     "output_type": "stream",
     "text": [
      "Changing name\n"
     ]
    }
   ],
   "source": [
    "I.name = 'another name'"
   ]
  },
  {
   "cell_type": "code",
   "execution_count": 148,
   "metadata": {},
   "outputs": [
    {
     "data": {
      "text/plain": [
       "'New secret2'"
      ]
     },
     "execution_count": 148,
     "metadata": {},
     "output_type": "execute_result"
    }
   ],
   "source": [
    "I._secret"
   ]
  },
  {
   "cell_type": "markdown",
   "metadata": {},
   "source": [
    "Now we got a sence of what the @property can do. It creates wrappers for how to access attributes on a class. "
   ]
  },
  {
   "cell_type": "markdown",
   "metadata": {},
   "source": [
    "These things are quite confusing, S I advice to play around ass much as possible to get the deeper knowedge of what is going on."
   ]
  },
  {
   "cell_type": "code",
   "execution_count": null,
   "metadata": {},
   "outputs": [],
   "source": []
  }
 ],
 "metadata": {
  "kernelspec": {
   "display_name": "Python 3",
   "language": "python",
   "name": "python3"
  },
  "language_info": {
   "codemirror_mode": {
    "name": "ipython",
    "version": 3
   },
   "file_extension": ".py",
   "mimetype": "text/x-python",
   "name": "python",
   "nbconvert_exporter": "python",
   "pygments_lexer": "ipython3",
   "version": "3.6.5"
  }
 },
 "nbformat": 4,
 "nbformat_minor": 2
}
